{
 "cells": [
  {
   "cell_type": "code",
   "execution_count": null,
   "id": "1cf41a35",
   "metadata": {},
   "outputs": [
    {
     "name": "stdout",
     "output_type": "stream",
     "text": [
      "Environnement prêt ✅\n"
     ]
    }
   ],
   "source": [
    "import pandas as pd\n",
    "print(\"Environnement prêt ✅\")\n",
    "\n",
    "from prophet import Prophet\n",
    "print(\"Prophet fonctionne ! 🚀\")\n"
   ]
  }
 ],
 "metadata": {
  "kernelspec": {
   "display_name": "venv",
   "language": "python",
   "name": "python3"
  },
  "language_info": {
   "codemirror_mode": {
    "name": "ipython",
    "version": 3
   },
   "file_extension": ".py",
   "mimetype": "text/x-python",
   "name": "python",
   "nbconvert_exporter": "python",
   "pygments_lexer": "ipython3",
   "version": "3.14.0"
  }
 },
 "nbformat": 4,
 "nbformat_minor": 5
}
